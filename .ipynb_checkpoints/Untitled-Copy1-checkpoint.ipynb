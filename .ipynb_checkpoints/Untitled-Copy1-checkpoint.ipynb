{
 "cells": [
  {
   "cell_type": "code",
   "execution_count": 1,
   "metadata": {},
   "outputs": [],
   "source": [
    "#from model import ClassPredictor\n",
    "token = '865937984:AAHhHwLNqIQpCfyd105oDCtTQH80JK049Ss'\n",
    "import torch\n",
    "#from config import reply_texts\n",
    "reply_texts = {\n",
    "    'pred_answer': 'I predicted class with index {}. To show class name you will need to extract it from' +\n",
    "                   'dataloader you used while training'\n",
    "}\n",
    "import numpy as np\n",
    "from PIL import Image\n",
    "from io import BytesIO\n"
   ]
  },
  {
   "cell_type": "code",
   "execution_count": 2,
   "metadata": {},
   "outputs": [
    {
     "data": {
      "text/plain": [
       "'1.1.0'"
      ]
     },
     "execution_count": 2,
     "metadata": {},
     "output_type": "execute_result"
    }
   ],
   "source": [
    "torch.__version__"
   ]
  },
  {
   "cell_type": "code",
   "execution_count": 3,
   "metadata": {},
   "outputs": [],
   "source": [
    "import torchvision.transforms as transforms\n",
    "import torchvision.models as models\n",
    "\n",
    "from fastai.vision import load_learner, Image\n",
    "\n",
    "# В данном классе мы хотим полностью производить всю обработку картинок, которые поступают к нам из телеграма.\n",
    "# Это всего лишь заготовка, поэтому не стесняйтесь менять имена функций, добавлять аргументы, свои классы и\n",
    "# все такое.\n",
    "class ClassPredictor:\n",
    "    def __init__(self):\n",
    "        self.device = torch.device(\"cuda\" if torch.cuda.is_available() else \"cpu\")\n",
    "        self.model = load_learner('C:/Users/Serg/Documents/Neyro_sets/juputers/bot_classify/')\n",
    "        self.to_tensor = transforms.ToTensor()\n",
    "\n",
    "    def predict1(self, img_stream):\n",
    "        # Этот метод по переданным картинкам в каком-то формате (PIL картинка, BytesIO с картинкой\n",
    "        # или numpy array на ваш выбор). В телеграм боте мы получаем поток байтов BytesIO,\n",
    "        # а мы хотим спрятать в этот метод всю работу с картинками, поэтому лучше принимать тут эти самые потоки\n",
    "        # и потом уже приводить их к PIL, а потом и к тензору, который уже можно отдать модели.\n",
    "        # Не забудьте перенести все трансофрмации, которые вы использовали при тренировке\n",
    "        # Для этого будет удобно сохранить питоновский объект с ними в виде файла с помощью pickle,\n",
    "        # а потом загрузить здесь.\n",
    "\n",
    "        # Обработка картинки сейчас производится в методе process image, а здесь мы должны уже применить нашу\n",
    "        # модель и вернуть вектор предсказаний для нашей картинки\n",
    "\n",
    "        # Для наглядности мы сначала переводим ее в тензор, а потом обратно\n",
    "        #print(self.process_image(img_stream))\n",
    "        return self.model.predict(self.process_image(img_stream))[0]\n",
    "\n",
    "    # В predict используются некоторые внешние функции, их можно добавить как функции класса\n",
    "    # Если понятно, что функция является служебной и снаружи использоваться не должна, то перед именем функции\n",
    "    # принято ставить _ (выглядит это так: def _foo() )\n",
    "    # ниже пример того, как переносить методы\n",
    "    def process_image(self, img_stream):\n",
    "        # используем PIL, чтобы получить картинку из потока и изменить размер\n",
    "        image = PIL_Image.open(img_stream).resize((256, 256))\n",
    "        # переводим картинку в тензор и оборачиваем в объект Image, который использует fastai у себя внутри\n",
    "        image = Image(self.to_tensor(image))\n",
    "        \n",
    "        return image\n"
   ]
  },
  {
   "cell_type": "code",
   "execution_count": 4,
   "metadata": {},
   "outputs": [
    {
     "name": "stderr",
     "output_type": "stream",
     "text": [
      "C:\\Users\\Serg\\Anaconda3\\lib\\site-packages\\torch\\serialization.py:454: SourceChangeWarning: source code of class 'fastai.layers.AdaptiveConcatPool2d' has changed. you can retrieve the original source code by accessing the object's source attribute or set `torch.nn.Module.dump_patches = True` and use the patch tool to revert the changes.\n",
      "  warnings.warn(msg, SourceChangeWarning)\n",
      "C:\\Users\\Serg\\Anaconda3\\lib\\site-packages\\torch\\serialization.py:454: SourceChangeWarning: source code of class 'fastai.layers.Flatten' has changed. you can retrieve the original source code by accessing the object's source attribute or set `torch.nn.Module.dump_patches = True` and use the patch tool to revert the changes.\n",
      "  warnings.warn(msg, SourceChangeWarning)\n"
     ]
    }
   ],
   "source": [
    "model = ClassPredictor()"
   ]
  },
  {
   "cell_type": "code",
   "execution_count": 6,
   "metadata": {},
   "outputs": [],
   "source": [
    "def text (bot,update):\n",
    "    chat_id = update.message.chat_id\n",
    "    if(update == \"/start\"):\n",
    "        ans = 'Привет, дорогой друг, рады что ты к нам заглянул. Этот бот может по рентгеновскому снимку сказать есть ли у вас пневмония или нет. Если хотите поподробней узнать что это такой пришлите /help '\n",
    "    else if(update == \"/help\"):\n",
    "        ans = \"Если хочешь узнать что это такое пришли Пневмония .Если хочешь узнать симтомы пришли Симптомы \"\n",
    "    else if (update == \"Пнемвония\"):\n",
    "        ans = \"Пневмони́я, воспаление лёгких — воспаление лёгочной ткани, как правило, инфекционного происхождения с преимущественным поражением альвеол (развитием в них воспалительной экссудации) и интерстициальной ткани лёгкого.\"\n",
    "    else if (update == \"Симптомы\"):\n",
    "        ans = \"Главными признаками пневмонии у взрослых являются кашель (бывают исключения) и боль в грудной клетке\"\n",
    "    else :\n",
    "        ans = 'я тебя не понимаю пришли мне фото или /help'\n",
    "    update.message.reply_text(ans)"
   ]
  },
  {
   "cell_type": "code",
   "execution_count": 7,
   "metadata": {},
   "outputs": [],
   "source": [
    "def send_prediction_on_photo(bot, update):\n",
    "    chat_id = update.message.chat_id\n",
    "    print(\"Got image from {}\".format(chat_id))\n",
    "\n",
    "    # получаем информацию о картинке\n",
    "    image_info = update.message.photo[-1]\n",
    "    image_file = bot.get_file(image_info)\n",
    "    image_stream = BytesIO()\n",
    "    image_file.download(out=image_stream)\n",
    "    print('load image')\n",
    "    class_ = model.predict1(image_stream)\n",
    "    \n",
    "    print(str(class_))\n",
    "    # теперь отправим результат\n",
    "    update.message.reply_text(str(class_))\n",
    "    print(\"Sent Answer to user, predicted: {}\".format(class_))"
   ]
  },
  {
   "cell_type": "code",
   "execution_count": 8,
   "metadata": {
    "scrolled": true
   },
   "outputs": [
    {
     "name": "stderr",
     "output_type": "stream",
     "text": [
      "2019-06-27 13:47:57,741 - telegram.vendor.ptb_urllib3.urllib3.connectionpool - WARNING - Retrying (Retry(total=2, connect=None, read=None, redirect=None)) after connection broken by 'ConnectTimeoutError(<telegram.vendor.ptb_urllib3.urllib3.connection.VerifiedHTTPSConnection object at 0x00000099D5312438>, 'Connection to api.telegram.org timed out. (connect timeout=5.0)')': /bot865937984:AAHhHwLNqIQpCfyd105oDCtTQH80JK049Ss/deleteWebhook\n",
      "2019-06-27 13:48:02,759 - telegram.vendor.ptb_urllib3.urllib3.connectionpool - WARNING - Retrying (Retry(total=1, connect=None, read=None, redirect=None)) after connection broken by 'ConnectTimeoutError(<telegram.vendor.ptb_urllib3.urllib3.connection.VerifiedHTTPSConnection object at 0x00000099CBDCEC88>, 'Connection to api.telegram.org timed out. (connect timeout=5.0)')': /bot865937984:AAHhHwLNqIQpCfyd105oDCtTQH80JK049Ss/deleteWebhook\n",
      "2019-06-27 13:48:07,767 - telegram.vendor.ptb_urllib3.urllib3.connectionpool - WARNING - Retrying (Retry(total=0, connect=None, read=None, redirect=None)) after connection broken by 'ConnectTimeoutError(<telegram.vendor.ptb_urllib3.urllib3.connection.VerifiedHTTPSConnection object at 0x00000099D4E63F28>, 'Connection to api.telegram.org timed out. (connect timeout=5.0)')': /bot865937984:AAHhHwLNqIQpCfyd105oDCtTQH80JK049Ss/deleteWebhook\n",
      "2019-06-27 13:48:12,770 - telegram.ext.updater - ERROR - Error while bootstrap del webhook: urllib3 HTTPError HTTPSConnectionPool(host='api.telegram.org', port=443): Max retries exceeded with url: /bot865937984:AAHhHwLNqIQpCfyd105oDCtTQH80JK049Ss/deleteWebhook (Caused by ConnectTimeoutError(<telegram.vendor.ptb_urllib3.urllib3.connection.VerifiedHTTPSConnection object at 0x00000099D4E63EB8>, 'Connection to api.telegram.org timed out. (connect timeout=5.0)'))\n",
      "2019-06-27 13:48:12,776 - telegram.ext.updater - WARNING - Failed bootstrap phase; try=1 max_retries=-1\n",
      "2019-06-27 13:48:25,286 - telegram.vendor.ptb_urllib3.urllib3.connectionpool - WARNING - Retrying (Retry(total=2, connect=None, read=None, redirect=None)) after connection broken by 'ConnectTimeoutError(<telegram.vendor.ptb_urllib3.urllib3.connection.VerifiedHTTPSConnection object at 0x00000099D4E63D68>, 'Connection to api.telegram.org timed out. (connect timeout=5.0)')': /bot865937984:AAHhHwLNqIQpCfyd105oDCtTQH80JK049Ss/deleteWebhook\n",
      "2019-06-27 13:48:30,298 - telegram.vendor.ptb_urllib3.urllib3.connectionpool - WARNING - Retrying (Retry(total=1, connect=None, read=None, redirect=None)) after connection broken by 'ConnectTimeoutError(<telegram.vendor.ptb_urllib3.urllib3.connection.VerifiedHTTPSConnection object at 0x00000099D4E63DD8>, 'Connection to api.telegram.org timed out. (connect timeout=5.0)')': /bot865937984:AAHhHwLNqIQpCfyd105oDCtTQH80JK049Ss/deleteWebhook\n",
      "2019-06-27 13:48:35,306 - telegram.vendor.ptb_urllib3.urllib3.connectionpool - WARNING - Retrying (Retry(total=0, connect=None, read=None, redirect=None)) after connection broken by 'ConnectTimeoutError(<telegram.vendor.ptb_urllib3.urllib3.connection.VerifiedHTTPSConnection object at 0x00000099CBD8D518>, 'Connection to api.telegram.org timed out. (connect timeout=5.0)')': /bot865937984:AAHhHwLNqIQpCfyd105oDCtTQH80JK049Ss/deleteWebhook\n",
      "2019-06-27 13:48:40,309 - telegram.ext.updater - ERROR - Error while bootstrap del webhook: urllib3 HTTPError HTTPSConnectionPool(host='api.telegram.org', port=443): Max retries exceeded with url: /bot865937984:AAHhHwLNqIQpCfyd105oDCtTQH80JK049Ss/deleteWebhook (Caused by ConnectTimeoutError(<telegram.vendor.ptb_urllib3.urllib3.connection.VerifiedHTTPSConnection object at 0x00000099D4E66128>, 'Connection to api.telegram.org timed out. (connect timeout=5.0)'))\n",
      "2019-06-27 13:48:40,311 - telegram.ext.updater - WARNING - Failed bootstrap phase; try=2 max_retries=-1\n",
      "2019-06-27 13:48:53,568 - telegram.vendor.ptb_urllib3.urllib3.connectionpool - WARNING - Retrying (Retry(total=2, connect=None, read=None, redirect=None)) after connection broken by 'NewConnectionError('<telegram.vendor.ptb_urllib3.urllib3.connection.VerifiedHTTPSConnection object at 0x00000099D4E660B8>: Failed to establish a new connection: [WinError 10013] Сделана попытка доступа к сокету методом, запрещенным правами доступа',)': /bot865937984:AAHhHwLNqIQpCfyd105oDCtTQH80JK049Ss/deleteWebhook\n",
      "2019-06-27 13:48:53,575 - telegram.vendor.ptb_urllib3.urllib3.connectionpool - WARNING - Retrying (Retry(total=1, connect=None, read=None, redirect=None)) after connection broken by 'NewConnectionError('<telegram.vendor.ptb_urllib3.urllib3.connection.VerifiedHTTPSConnection object at 0x00000099D4E662E8>: Failed to establish a new connection: [WinError 10013] Сделана попытка доступа к сокету методом, запрещенным правами доступа',)': /bot865937984:AAHhHwLNqIQpCfyd105oDCtTQH80JK049Ss/deleteWebhook\n",
      "2019-06-27 13:48:53,580 - telegram.vendor.ptb_urllib3.urllib3.connectionpool - WARNING - Retrying (Retry(total=0, connect=None, read=None, redirect=None)) after connection broken by 'NewConnectionError('<telegram.vendor.ptb_urllib3.urllib3.connection.VerifiedHTTPSConnection object at 0x00000099D4E663C8>: Failed to establish a new connection: [WinError 10013] Сделана попытка доступа к сокету методом, запрещенным правами доступа',)': /bot865937984:AAHhHwLNqIQpCfyd105oDCtTQH80JK049Ss/deleteWebhook\n",
      "2019-06-27 13:48:53,586 - telegram.ext.updater - ERROR - Error while bootstrap del webhook: urllib3 HTTPError HTTPSConnectionPool(host='api.telegram.org', port=443): Max retries exceeded with url: /bot865937984:AAHhHwLNqIQpCfyd105oDCtTQH80JK049Ss/deleteWebhook (Caused by NewConnectionError('<telegram.vendor.ptb_urllib3.urllib3.connection.VerifiedHTTPSConnection object at 0x00000099CBDB71D0>: Failed to establish a new connection: [WinError 10013] Сделана попытка доступа к сокету методом, запрещенным правами доступа',))\n",
      "2019-06-27 13:48:53,590 - telegram.ext.updater - WARNING - Failed bootstrap phase; try=3 max_retries=-1\n",
      "2019-06-27 13:49:15,472 - telegram.vendor.ptb_urllib3.urllib3.connectionpool - WARNING - Retrying (Retry(total=2, connect=None, read=None, redirect=None)) after connection broken by 'ConnectTimeoutError(<telegram.vendor.ptb_urllib3.urllib3.connection.VerifiedHTTPSConnection object at 0x00000099D4E63F60>, 'Connection to api.telegram.org timed out. (connect timeout=5.0)')': /bot865937984:AAHhHwLNqIQpCfyd105oDCtTQH80JK049Ss/deleteWebhook\n",
      "2019-06-27 13:49:20,480 - telegram.vendor.ptb_urllib3.urllib3.connectionpool - WARNING - Retrying (Retry(total=1, connect=None, read=None, redirect=None)) after connection broken by 'ConnectTimeoutError(<telegram.vendor.ptb_urllib3.urllib3.connection.VerifiedHTTPSConnection object at 0x00000099D4E63B00>, 'Connection to api.telegram.org timed out. (connect timeout=5.0)')': /bot865937984:AAHhHwLNqIQpCfyd105oDCtTQH80JK049Ss/deleteWebhook\n",
      "2019-06-27 13:49:25,489 - telegram.vendor.ptb_urllib3.urllib3.connectionpool - WARNING - Retrying (Retry(total=0, connect=None, read=None, redirect=None)) after connection broken by 'ConnectTimeoutError(<telegram.vendor.ptb_urllib3.urllib3.connection.VerifiedHTTPSConnection object at 0x00000099D4E63F28>, 'Connection to api.telegram.org timed out. (connect timeout=5.0)')': /bot865937984:AAHhHwLNqIQpCfyd105oDCtTQH80JK049Ss/deleteWebhook\n",
      "2019-06-27 13:49:30,498 - telegram.ext.updater - ERROR - Error while bootstrap del webhook: urllib3 HTTPError HTTPSConnectionPool(host='api.telegram.org', port=443): Max retries exceeded with url: /bot865937984:AAHhHwLNqIQpCfyd105oDCtTQH80JK049Ss/deleteWebhook (Caused by ConnectTimeoutError(<telegram.vendor.ptb_urllib3.urllib3.connection.VerifiedHTTPSConnection object at 0x00000099D4E63D30>, 'Connection to api.telegram.org timed out. (connect timeout=5.0)'))\n",
      "2019-06-27 13:49:30,503 - telegram.ext.updater - WARNING - Failed bootstrap phase; try=4 max_retries=-1\n",
      "2019-06-27 13:50:00,832 - telegram.vendor.ptb_urllib3.urllib3.connectionpool - WARNING - Retrying (Retry(total=2, connect=None, read=None, redirect=None)) after connection broken by 'ConnectTimeoutError(<telegram.vendor.ptb_urllib3.urllib3.connection.VerifiedHTTPSConnection object at 0x00000099D4E63E80>, 'Connection to api.telegram.org timed out. (connect timeout=5.0)')': /bot865937984:AAHhHwLNqIQpCfyd105oDCtTQH80JK049Ss/deleteWebhook\n",
      "2019-06-27 13:50:05,841 - telegram.vendor.ptb_urllib3.urllib3.connectionpool - WARNING - Retrying (Retry(total=1, connect=None, read=None, redirect=None)) after connection broken by 'ConnectTimeoutError(<telegram.vendor.ptb_urllib3.urllib3.connection.VerifiedHTTPSConnection object at 0x00000099D4E66320>, 'Connection to api.telegram.org timed out. (connect timeout=5.0)')': /bot865937984:AAHhHwLNqIQpCfyd105oDCtTQH80JK049Ss/deleteWebhook\n",
      "2019-06-27 13:50:10,849 - telegram.vendor.ptb_urllib3.urllib3.connectionpool - WARNING - Retrying (Retry(total=0, connect=None, read=None, redirect=None)) after connection broken by 'ConnectTimeoutError(<telegram.vendor.ptb_urllib3.urllib3.connection.VerifiedHTTPSConnection object at 0x00000099D4E66668>, 'Connection to api.telegram.org timed out. (connect timeout=5.0)')': /bot865937984:AAHhHwLNqIQpCfyd105oDCtTQH80JK049Ss/deleteWebhook\n",
      "2019-06-27 13:50:15,859 - telegram.ext.updater - ERROR - Error while bootstrap del webhook: urllib3 HTTPError HTTPSConnectionPool(host='api.telegram.org', port=443): Max retries exceeded with url: /bot865937984:AAHhHwLNqIQpCfyd105oDCtTQH80JK049Ss/deleteWebhook (Caused by ConnectTimeoutError(<telegram.vendor.ptb_urllib3.urllib3.connection.VerifiedHTTPSConnection object at 0x00000099D4E665F8>, 'Connection to api.telegram.org timed out. (connect timeout=5.0)'))\n",
      "2019-06-27 13:50:15,865 - telegram.ext.updater - WARNING - Failed bootstrap phase; try=5 max_retries=-1\n",
      "2019-06-27 13:50:58,844 - telegram.vendor.ptb_urllib3.urllib3.connectionpool - WARNING - Retrying (Retry(total=2, connect=None, read=None, redirect=None)) after connection broken by 'ConnectTimeoutError(<telegram.vendor.ptb_urllib3.urllib3.connection.VerifiedHTTPSConnection object at 0x00000099D4E66438>, 'Connection to api.telegram.org timed out. (connect timeout=5.0)')': /bot865937984:AAHhHwLNqIQpCfyd105oDCtTQH80JK049Ss/deleteWebhook\n",
      "2019-06-27 13:51:03,853 - telegram.vendor.ptb_urllib3.urllib3.connectionpool - WARNING - Retrying (Retry(total=1, connect=None, read=None, redirect=None)) after connection broken by 'ConnectTimeoutError(<telegram.vendor.ptb_urllib3.urllib3.connection.VerifiedHTTPSConnection object at 0x00000099D5312048>, 'Connection to api.telegram.org timed out. (connect timeout=5.0)')': /bot865937984:AAHhHwLNqIQpCfyd105oDCtTQH80JK049Ss/deleteWebhook\n",
      "2019-06-27 13:51:08,861 - telegram.vendor.ptb_urllib3.urllib3.connectionpool - WARNING - Retrying (Retry(total=0, connect=None, read=None, redirect=None)) after connection broken by 'ConnectTimeoutError(<telegram.vendor.ptb_urllib3.urllib3.connection.VerifiedHTTPSConnection object at 0x00000099D53126A0>, 'Connection to api.telegram.org timed out. (connect timeout=5.0)')': /bot865937984:AAHhHwLNqIQpCfyd105oDCtTQH80JK049Ss/deleteWebhook\n",
      "2019-06-27 13:51:13,870 - telegram.ext.updater - ERROR - Error while bootstrap del webhook: urllib3 HTTPError HTTPSConnectionPool(host='api.telegram.org', port=443): Max retries exceeded with url: /bot865937984:AAHhHwLNqIQpCfyd105oDCtTQH80JK049Ss/deleteWebhook (Caused by ConnectTimeoutError(<telegram.vendor.ptb_urllib3.urllib3.connection.VerifiedHTTPSConnection object at 0x00000099D53126D8>, 'Connection to api.telegram.org timed out. (connect timeout=5.0)'))\n",
      "2019-06-27 13:51:13,875 - telegram.ext.updater - WARNING - Failed bootstrap phase; try=6 max_retries=-1\n",
      "2019-06-27 13:51:48,882 - telegram.vendor.ptb_urllib3.urllib3.connectionpool - WARNING - Retrying (Retry(total=2, connect=None, read=None, redirect=None)) after connection broken by 'ConnectTimeoutError(<telegram.vendor.ptb_urllib3.urllib3.connection.VerifiedHTTPSConnection object at 0x00000099D5312438>, 'Connection to api.telegram.org timed out. (connect timeout=5.0)')': /bot865937984:AAHhHwLNqIQpCfyd105oDCtTQH80JK049Ss/deleteWebhook\n",
      "2019-06-27 13:51:53,891 - telegram.vendor.ptb_urllib3.urllib3.connectionpool - WARNING - Retrying (Retry(total=1, connect=None, read=None, redirect=None)) after connection broken by 'ConnectTimeoutError(<telegram.vendor.ptb_urllib3.urllib3.connection.VerifiedHTTPSConnection object at 0x00000099D5312AC8>, 'Connection to api.telegram.org timed out. (connect timeout=5.0)')': /bot865937984:AAHhHwLNqIQpCfyd105oDCtTQH80JK049Ss/deleteWebhook\n",
      "2019-06-27 13:51:58,901 - telegram.vendor.ptb_urllib3.urllib3.connectionpool - WARNING - Retrying (Retry(total=0, connect=None, read=None, redirect=None)) after connection broken by 'ConnectTimeoutError(<telegram.vendor.ptb_urllib3.urllib3.connection.VerifiedHTTPSConnection object at 0x00000099D5312B70>, 'Connection to api.telegram.org timed out. (connect timeout=5.0)')': /bot865937984:AAHhHwLNqIQpCfyd105oDCtTQH80JK049Ss/deleteWebhook\n",
      "2019-06-27 13:52:03,909 - telegram.ext.updater - ERROR - Error while bootstrap del webhook: urllib3 HTTPError HTTPSConnectionPool(host='api.telegram.org', port=443): Max retries exceeded with url: /bot865937984:AAHhHwLNqIQpCfyd105oDCtTQH80JK049Ss/deleteWebhook (Caused by ConnectTimeoutError(<telegram.vendor.ptb_urllib3.urllib3.connection.VerifiedHTTPSConnection object at 0x00000099D5312CC0>, 'Connection to api.telegram.org timed out. (connect timeout=5.0)'))\n",
      "2019-06-27 13:52:03,915 - telegram.ext.updater - WARNING - Failed bootstrap phase; try=7 max_retries=-1\n",
      "2019-06-27 13:52:38,922 - telegram.vendor.ptb_urllib3.urllib3.connectionpool - WARNING - Retrying (Retry(total=2, connect=None, read=None, redirect=None)) after connection broken by 'ConnectTimeoutError(<telegram.vendor.ptb_urllib3.urllib3.connection.VerifiedHTTPSConnection object at 0x00000099D53127F0>, 'Connection to api.telegram.org timed out. (connect timeout=5.0)')': /bot865937984:AAHhHwLNqIQpCfyd105oDCtTQH80JK049Ss/deleteWebhook\n",
      "2019-06-27 13:52:43,929 - telegram.vendor.ptb_urllib3.urllib3.connectionpool - WARNING - Retrying (Retry(total=1, connect=None, read=None, redirect=None)) after connection broken by 'ConnectTimeoutError(<telegram.vendor.ptb_urllib3.urllib3.connection.VerifiedHTTPSConnection object at 0x00000099D5312F98>, 'Connection to api.telegram.org timed out. (connect timeout=5.0)')': /bot865937984:AAHhHwLNqIQpCfyd105oDCtTQH80JK049Ss/deleteWebhook\n",
      "2019-06-27 13:52:48,937 - telegram.vendor.ptb_urllib3.urllib3.connectionpool - WARNING - Retrying (Retry(total=0, connect=None, read=None, redirect=None)) after connection broken by 'ConnectTimeoutError(<telegram.vendor.ptb_urllib3.urllib3.connection.VerifiedHTTPSConnection object at 0x00000099D5312FD0>, 'Connection to api.telegram.org timed out. (connect timeout=5.0)')': /bot865937984:AAHhHwLNqIQpCfyd105oDCtTQH80JK049Ss/deleteWebhook\n",
      "2019-06-27 13:52:53,943 - telegram.ext.updater - ERROR - Error while bootstrap del webhook: urllib3 HTTPError HTTPSConnectionPool(host='api.telegram.org', port=443): Max retries exceeded with url: /bot865937984:AAHhHwLNqIQpCfyd105oDCtTQH80JK049Ss/deleteWebhook (Caused by ConnectTimeoutError(<telegram.vendor.ptb_urllib3.urllib3.connection.VerifiedHTTPSConnection object at 0x00000099D6698160>, 'Connection to api.telegram.org timed out. (connect timeout=5.0)'))\n",
      "2019-06-27 13:52:53,949 - telegram.ext.updater - WARNING - Failed bootstrap phase; try=8 max_retries=-1\n"
     ]
    }
   ],
   "source": [
    "from PIL import Image as PIL_Image\n",
    "import matplotlib.pyplot as plt\n",
    "if __name__ == '__main__':\n",
    "    from telegram.ext import Updater, MessageHandler, Filters\n",
    "    import logging\n",
    "    import telegram\n",
    "    # Включим самый базовый логгинг, чтобы видеть сообщения об ошибках\n",
    "    logging.basicConfig(\n",
    "         format='%(asctime)s - %(name)s - %(levelname)s - %(message)s',\n",
    "         level=logging.INFO)\n",
    "    # используем прокси, так как без него у меня ничего не работало(\n",
    "    updater = Updater(token=token)\n",
    "    updater.dispatcher.add_handler(MessageHandler(Filters.photo, send_prediction_on_photo))\n",
    "    updater.dispatcher.add_handler(MessageHandler(Filters.text, text))\n",
    "    updater.start_polling()"
   ]
  },
  {
   "cell_type": "code",
   "execution_count": null,
   "metadata": {},
   "outputs": [],
   "source": []
  }
 ],
 "metadata": {
  "kernelspec": {
   "display_name": "Python 3",
   "language": "python",
   "name": "python3"
  },
  "language_info": {
   "codemirror_mode": {
    "name": "ipython",
    "version": 3
   },
   "file_extension": ".py",
   "mimetype": "text/x-python",
   "name": "python",
   "nbconvert_exporter": "python",
   "pygments_lexer": "ipython3",
   "version": "3.6.8"
  }
 },
 "nbformat": 4,
 "nbformat_minor": 2
}
